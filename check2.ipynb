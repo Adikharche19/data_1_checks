{
 "cells": [
  {
   "cell_type": "code",
   "execution_count": 32,
   "metadata": {},
   "outputs": [],
   "source": [
    "import requests as re\n",
    "import pandas as pd\n",
    "import matplotlib.pyplot as plt\n",
    "import numpy as np\n",
    "import seaborn as sns\n",
    "import plotly.express as px\n",
    "import folium\n",
    "from folium.plugins import HeatMap\n",
    "import os\n",
    "import calendar"
   ]
  },
  {
   "cell_type": "code",
   "execution_count": 33,
   "metadata": {},
   "outputs": [
    {
     "data": {
      "text/html": [
       "<div>\n",
       "<style scoped>\n",
       "    .dataframe tbody tr th:only-of-type {\n",
       "        vertical-align: middle;\n",
       "    }\n",
       "\n",
       "    .dataframe tbody tr th {\n",
       "        vertical-align: top;\n",
       "    }\n",
       "\n",
       "    .dataframe thead th {\n",
       "        text-align: right;\n",
       "    }\n",
       "</style>\n",
       "<table border=\"1\" class=\"dataframe\">\n",
       "  <thead>\n",
       "    <tr style=\"text-align: right;\">\n",
       "      <th></th>\n",
       "      <th>state-province</th>\n",
       "      <th>domains</th>\n",
       "      <th>country</th>\n",
       "      <th>web_pages</th>\n",
       "      <th>name</th>\n",
       "      <th>alpha_two_code</th>\n",
       "    </tr>\n",
       "  </thead>\n",
       "  <tbody>\n",
       "    <tr>\n",
       "      <th>0</th>\n",
       "      <td>None</td>\n",
       "      <td>[marywood.edu]</td>\n",
       "      <td>United States</td>\n",
       "      <td>[http://www.marywood.edu]</td>\n",
       "      <td>Marywood University</td>\n",
       "      <td>US</td>\n",
       "    </tr>\n",
       "    <tr>\n",
       "      <th>1</th>\n",
       "      <td>None</td>\n",
       "      <td>[lindenwood.edu]</td>\n",
       "      <td>United States</td>\n",
       "      <td>[http://www.lindenwood.edu/]</td>\n",
       "      <td>Lindenwood University</td>\n",
       "      <td>US</td>\n",
       "    </tr>\n",
       "    <tr>\n",
       "      <th>2</th>\n",
       "      <td>None</td>\n",
       "      <td>[sullivan.edu]</td>\n",
       "      <td>United States</td>\n",
       "      <td>[https://sullivan.edu/]</td>\n",
       "      <td>Sullivan University</td>\n",
       "      <td>US</td>\n",
       "    </tr>\n",
       "    <tr>\n",
       "      <th>3</th>\n",
       "      <td>None</td>\n",
       "      <td>[fscj.edu]</td>\n",
       "      <td>United States</td>\n",
       "      <td>[https://www.fscj.edu/]</td>\n",
       "      <td>Florida State College at Jacksonville</td>\n",
       "      <td>US</td>\n",
       "    </tr>\n",
       "    <tr>\n",
       "      <th>4</th>\n",
       "      <td>None</td>\n",
       "      <td>[xavier.edu]</td>\n",
       "      <td>United States</td>\n",
       "      <td>[https://www.xavier.edu/]</td>\n",
       "      <td>Xavier University</td>\n",
       "      <td>US</td>\n",
       "    </tr>\n",
       "    <tr>\n",
       "      <th>...</th>\n",
       "      <td>...</td>\n",
       "      <td>...</td>\n",
       "      <td>...</td>\n",
       "      <td>...</td>\n",
       "      <td>...</td>\n",
       "      <td>...</td>\n",
       "    </tr>\n",
       "    <tr>\n",
       "      <th>4557</th>\n",
       "      <td>None</td>\n",
       "      <td>[vul.edu]</td>\n",
       "      <td>United States</td>\n",
       "      <td>[https://www.vul.edu/]</td>\n",
       "      <td>Virginia University of Lynchburg</td>\n",
       "      <td>US</td>\n",
       "    </tr>\n",
       "    <tr>\n",
       "      <th>4558</th>\n",
       "      <td>None</td>\n",
       "      <td>[voorhees.edu]</td>\n",
       "      <td>United States</td>\n",
       "      <td>[https://www.voorhees.edu/]</td>\n",
       "      <td>Voorhees University</td>\n",
       "      <td>US</td>\n",
       "    </tr>\n",
       "    <tr>\n",
       "      <th>4559</th>\n",
       "      <td>None</td>\n",
       "      <td>[wvstate.edu]</td>\n",
       "      <td>United States</td>\n",
       "      <td>[https://www.wvstateu.edu/]</td>\n",
       "      <td>West Virginia State University</td>\n",
       "      <td>US</td>\n",
       "    </tr>\n",
       "    <tr>\n",
       "      <th>4560</th>\n",
       "      <td>None</td>\n",
       "      <td>[wileyc.edu]</td>\n",
       "      <td>United States</td>\n",
       "      <td>[https://www.wileyc.edu/]</td>\n",
       "      <td>Wiley College</td>\n",
       "      <td>US</td>\n",
       "    </tr>\n",
       "    <tr>\n",
       "      <th>4561</th>\n",
       "      <td>None</td>\n",
       "      <td>[wssu.edu]</td>\n",
       "      <td>United States</td>\n",
       "      <td>[https://www.wssu.edu/]</td>\n",
       "      <td>Winston-Salem State University</td>\n",
       "      <td>US</td>\n",
       "    </tr>\n",
       "  </tbody>\n",
       "</table>\n",
       "<p>4562 rows × 6 columns</p>\n",
       "</div>"
      ],
      "text/plain": [
       "     state-province           domains        country  \\\n",
       "0              None    [marywood.edu]  United States   \n",
       "1              None  [lindenwood.edu]  United States   \n",
       "2              None    [sullivan.edu]  United States   \n",
       "3              None        [fscj.edu]  United States   \n",
       "4              None      [xavier.edu]  United States   \n",
       "...             ...               ...            ...   \n",
       "4557           None         [vul.edu]  United States   \n",
       "4558           None    [voorhees.edu]  United States   \n",
       "4559           None     [wvstate.edu]  United States   \n",
       "4560           None      [wileyc.edu]  United States   \n",
       "4561           None        [wssu.edu]  United States   \n",
       "\n",
       "                         web_pages                                   name  \\\n",
       "0        [http://www.marywood.edu]                    Marywood University   \n",
       "1     [http://www.lindenwood.edu/]                  Lindenwood University   \n",
       "2          [https://sullivan.edu/]                    Sullivan University   \n",
       "3          [https://www.fscj.edu/]  Florida State College at Jacksonville   \n",
       "4        [https://www.xavier.edu/]                      Xavier University   \n",
       "...                            ...                                    ...   \n",
       "4557        [https://www.vul.edu/]       Virginia University of Lynchburg   \n",
       "4558   [https://www.voorhees.edu/]                    Voorhees University   \n",
       "4559   [https://www.wvstateu.edu/]         West Virginia State University   \n",
       "4560     [https://www.wileyc.edu/]                          Wiley College   \n",
       "4561       [https://www.wssu.edu/]         Winston-Salem State University   \n",
       "\n",
       "     alpha_two_code  \n",
       "0                US  \n",
       "1                US  \n",
       "2                US  \n",
       "3                US  \n",
       "4                US  \n",
       "...             ...  \n",
       "4557             US  \n",
       "4558             US  \n",
       "4559             US  \n",
       "4560             US  \n",
       "4561             US  \n",
       "\n",
       "[4562 rows x 6 columns]"
      ]
     },
     "execution_count": 33,
     "metadata": {},
     "output_type": "execute_result"
    }
   ],
   "source": [
    "url = \"http://universities.hipolabs.com/search?country=United+States\"\n",
    "r = re.get(url)\n",
    "r_json = r.json()\n",
    "df = pd.json_normalize(data = r_json)\n",
    "df"
   ]
  },
  {
   "cell_type": "code",
   "execution_count": 34,
   "metadata": {},
   "outputs": [
    {
     "name": "stdout",
     "output_type": "stream",
     "text": [
      "(4562, 6)\n"
     ]
    },
    {
     "data": {
      "text/html": [
       "<div>\n",
       "<style scoped>\n",
       "    .dataframe tbody tr th:only-of-type {\n",
       "        vertical-align: middle;\n",
       "    }\n",
       "\n",
       "    .dataframe tbody tr th {\n",
       "        vertical-align: top;\n",
       "    }\n",
       "\n",
       "    .dataframe thead th {\n",
       "        text-align: right;\n",
       "    }\n",
       "</style>\n",
       "<table border=\"1\" class=\"dataframe\">\n",
       "  <thead>\n",
       "    <tr style=\"text-align: right;\">\n",
       "      <th></th>\n",
       "      <th>state-province</th>\n",
       "      <th>domains</th>\n",
       "      <th>country</th>\n",
       "      <th>web_pages</th>\n",
       "      <th>name</th>\n",
       "      <th>alpha_two_code</th>\n",
       "    </tr>\n",
       "  </thead>\n",
       "  <tbody>\n",
       "    <tr>\n",
       "      <th>0</th>\n",
       "      <td>None</td>\n",
       "      <td>[marywood.edu]</td>\n",
       "      <td>United States</td>\n",
       "      <td>[http://www.marywood.edu]</td>\n",
       "      <td>Marywood University</td>\n",
       "      <td>US</td>\n",
       "    </tr>\n",
       "    <tr>\n",
       "      <th>1</th>\n",
       "      <td>None</td>\n",
       "      <td>[lindenwood.edu]</td>\n",
       "      <td>United States</td>\n",
       "      <td>[http://www.lindenwood.edu/]</td>\n",
       "      <td>Lindenwood University</td>\n",
       "      <td>US</td>\n",
       "    </tr>\n",
       "    <tr>\n",
       "      <th>2</th>\n",
       "      <td>None</td>\n",
       "      <td>[sullivan.edu]</td>\n",
       "      <td>United States</td>\n",
       "      <td>[https://sullivan.edu/]</td>\n",
       "      <td>Sullivan University</td>\n",
       "      <td>US</td>\n",
       "    </tr>\n",
       "    <tr>\n",
       "      <th>3</th>\n",
       "      <td>None</td>\n",
       "      <td>[fscj.edu]</td>\n",
       "      <td>United States</td>\n",
       "      <td>[https://www.fscj.edu/]</td>\n",
       "      <td>Florida State College at Jacksonville</td>\n",
       "      <td>US</td>\n",
       "    </tr>\n",
       "    <tr>\n",
       "      <th>4</th>\n",
       "      <td>None</td>\n",
       "      <td>[xavier.edu]</td>\n",
       "      <td>United States</td>\n",
       "      <td>[https://www.xavier.edu/]</td>\n",
       "      <td>Xavier University</td>\n",
       "      <td>US</td>\n",
       "    </tr>\n",
       "  </tbody>\n",
       "</table>\n",
       "</div>"
      ],
      "text/plain": [
       "  state-province           domains        country  \\\n",
       "0           None    [marywood.edu]  United States   \n",
       "1           None  [lindenwood.edu]  United States   \n",
       "2           None    [sullivan.edu]  United States   \n",
       "3           None        [fscj.edu]  United States   \n",
       "4           None      [xavier.edu]  United States   \n",
       "\n",
       "                      web_pages                                   name  \\\n",
       "0     [http://www.marywood.edu]                    Marywood University   \n",
       "1  [http://www.lindenwood.edu/]                  Lindenwood University   \n",
       "2       [https://sullivan.edu/]                    Sullivan University   \n",
       "3       [https://www.fscj.edu/]  Florida State College at Jacksonville   \n",
       "4     [https://www.xavier.edu/]                      Xavier University   \n",
       "\n",
       "  alpha_two_code  \n",
       "0             US  \n",
       "1             US  \n",
       "2             US  \n",
       "3             US  \n",
       "4             US  "
      ]
     },
     "execution_count": 34,
     "metadata": {},
     "output_type": "execute_result"
    }
   ],
   "source": [
    "print(df.shape)\n",
    "df.head()"
   ]
  },
  {
   "cell_type": "code",
   "execution_count": 35,
   "metadata": {},
   "outputs": [
    {
     "data": {
      "text/plain": [
       "Index(['state-province', 'domains', 'country', 'web_pages', 'name',\n",
       "       'alpha_two_code'],\n",
       "      dtype='object')"
      ]
     },
     "execution_count": 35,
     "metadata": {},
     "output_type": "execute_result"
    }
   ],
   "source": [
    "df.columns"
   ]
  },
  {
   "cell_type": "code",
   "execution_count": 101,
   "metadata": {},
   "outputs": [
    {
     "data": {
      "text/plain": [
       "Index(['Domain', 'Country_name', 'alpha_code', 'web_page_name', 'State',\n",
       "       'university_name'],\n",
       "      dtype='object')"
      ]
     },
     "execution_count": 101,
     "metadata": {},
     "output_type": "execute_result"
    }
   ],
   "source": [
    "#Column rename\n",
    "fixed_columns = {\n",
    "    'state-province':'State',\n",
    "    'domains':'Domain',\n",
    "    'country':'Country_name',\n",
    "    'web_pages':'web_page_name',\n",
    "    'name':'university_name',\n",
    "    'alpha_two_code':'alpha_code',\n",
    "    \n",
    "}\n",
    "\n",
    "df.rename(columns=fixed_columns,inplace=True)\n",
    "df.columns"
   ]
  },
  {
   "cell_type": "code",
   "execution_count": 44,
   "metadata": {},
   "outputs": [
    {
     "data": {
      "text/plain": [
       "array(['Marywood University', 'Lindenwood University',\n",
       "       'Sullivan University', ..., 'West Virginia State University',\n",
       "       'Wiley College', 'Winston-Salem State University'], dtype=object)"
      ]
     },
     "execution_count": 44,
     "metadata": {},
     "output_type": "execute_result"
    }
   ],
   "source": [
    "df.university_name.unique()"
   ]
  },
  {
   "cell_type": "code",
   "execution_count": 43,
   "metadata": {},
   "outputs": [
    {
     "data": {
      "text/html": [
       "<div>\n",
       "<style scoped>\n",
       "    .dataframe tbody tr th:only-of-type {\n",
       "        vertical-align: middle;\n",
       "    }\n",
       "\n",
       "    .dataframe tbody tr th {\n",
       "        vertical-align: top;\n",
       "    }\n",
       "\n",
       "    .dataframe thead th {\n",
       "        text-align: right;\n",
       "    }\n",
       "</style>\n",
       "<table border=\"1\" class=\"dataframe\">\n",
       "  <thead>\n",
       "    <tr style=\"text-align: right;\">\n",
       "      <th></th>\n",
       "      <th>State</th>\n",
       "      <th>Domain</th>\n",
       "      <th>Country_name</th>\n",
       "      <th>web_page_name</th>\n",
       "      <th>university_name</th>\n",
       "      <th>alpha_code</th>\n",
       "    </tr>\n",
       "  </thead>\n",
       "  <tbody>\n",
       "  </tbody>\n",
       "</table>\n",
       "</div>"
      ],
      "text/plain": [
       "Empty DataFrame\n",
       "Columns: [State, Domain, Country_name, web_page_name, university_name, alpha_code]\n",
       "Index: []"
      ]
     },
     "execution_count": 43,
     "metadata": {},
     "output_type": "execute_result"
    }
   ],
   "source": [
    "df[df.alpha_code.str.contains('null')].head()"
   ]
  },
  {
   "cell_type": "markdown",
   "metadata": {},
   "source": []
  },
  {
   "cell_type": "code",
   "execution_count": 39,
   "metadata": {},
   "outputs": [],
   "source": [
    "df.alpha_code.replace({' null':''}, regex=True,inplace=True)"
   ]
  },
  {
   "cell_type": "code",
   "execution_count": 41,
   "metadata": {},
   "outputs": [
    {
     "data": {
      "text/html": [
       "<div>\n",
       "<style scoped>\n",
       "    .dataframe tbody tr th:only-of-type {\n",
       "        vertical-align: middle;\n",
       "    }\n",
       "\n",
       "    .dataframe tbody tr th {\n",
       "        vertical-align: top;\n",
       "    }\n",
       "\n",
       "    .dataframe thead th {\n",
       "        text-align: right;\n",
       "    }\n",
       "</style>\n",
       "<table border=\"1\" class=\"dataframe\">\n",
       "  <thead>\n",
       "    <tr style=\"text-align: right;\">\n",
       "      <th></th>\n",
       "      <th>State</th>\n",
       "      <th>Domain</th>\n",
       "      <th>Country_name</th>\n",
       "      <th>web_page_name</th>\n",
       "      <th>university_name</th>\n",
       "      <th>alpha_code</th>\n",
       "    </tr>\n",
       "  </thead>\n",
       "  <tbody>\n",
       "  </tbody>\n",
       "</table>\n",
       "</div>"
      ],
      "text/plain": [
       "Empty DataFrame\n",
       "Columns: [State, Domain, Country_name, web_page_name, university_name, alpha_code]\n",
       "Index: []"
      ]
     },
     "execution_count": 41,
     "metadata": {},
     "output_type": "execute_result"
    }
   ],
   "source": [
    "df[df.alpha_code.str.contains('null')].head()"
   ]
  },
  {
   "cell_type": "code",
   "execution_count": 45,
   "metadata": {},
   "outputs": [
    {
     "data": {
      "text/plain": [
       "(4562, 6)"
      ]
     },
     "execution_count": 45,
     "metadata": {},
     "output_type": "execute_result"
    }
   ],
   "source": [
    "#Count before removing duplicates\n",
    "\n",
    "df.shape"
   ]
  },
  {
   "cell_type": "code",
   "execution_count": 47,
   "metadata": {},
   "outputs": [],
   "source": [
    "#Removing Duplicates\n",
    "\n",
    "df = df[['Domain','Country_name','alpha_code','web_page_name','State','university_name']].loc[df[['Domain','Country_name','alpha_code','web_page_name','State','university_name']].astype(str).drop_duplicates().index]\n"
   ]
  },
  {
   "cell_type": "code",
   "execution_count": 48,
   "metadata": {},
   "outputs": [
    {
     "data": {
      "text/plain": [
       "(2281, 6)"
      ]
     },
     "execution_count": 48,
     "metadata": {},
     "output_type": "execute_result"
    }
   ],
   "source": [
    "#Count After removing duplicates\n",
    "\n",
    "df.shape"
   ]
  },
  {
   "cell_type": "code",
   "execution_count": 49,
   "metadata": {},
   "outputs": [
    {
     "data": {
      "text/html": [
       "<div>\n",
       "<style scoped>\n",
       "    .dataframe tbody tr th:only-of-type {\n",
       "        vertical-align: middle;\n",
       "    }\n",
       "\n",
       "    .dataframe tbody tr th {\n",
       "        vertical-align: top;\n",
       "    }\n",
       "\n",
       "    .dataframe thead th {\n",
       "        text-align: right;\n",
       "    }\n",
       "</style>\n",
       "<table border=\"1\" class=\"dataframe\">\n",
       "  <thead>\n",
       "    <tr style=\"text-align: right;\">\n",
       "      <th></th>\n",
       "      <th>Domain</th>\n",
       "      <th>Country_name</th>\n",
       "      <th>alpha_code</th>\n",
       "      <th>web_page_name</th>\n",
       "      <th>State</th>\n",
       "      <th>university_name</th>\n",
       "    </tr>\n",
       "  </thead>\n",
       "  <tbody>\n",
       "    <tr>\n",
       "      <th>0</th>\n",
       "      <td>[marywood.edu]</td>\n",
       "      <td>United States</td>\n",
       "      <td>US</td>\n",
       "      <td>[http://www.marywood.edu]</td>\n",
       "      <td>None</td>\n",
       "      <td>Marywood University</td>\n",
       "    </tr>\n",
       "    <tr>\n",
       "      <th>1</th>\n",
       "      <td>[lindenwood.edu]</td>\n",
       "      <td>United States</td>\n",
       "      <td>US</td>\n",
       "      <td>[http://www.lindenwood.edu/]</td>\n",
       "      <td>None</td>\n",
       "      <td>Lindenwood University</td>\n",
       "    </tr>\n",
       "    <tr>\n",
       "      <th>2</th>\n",
       "      <td>[sullivan.edu]</td>\n",
       "      <td>United States</td>\n",
       "      <td>US</td>\n",
       "      <td>[https://sullivan.edu/]</td>\n",
       "      <td>None</td>\n",
       "      <td>Sullivan University</td>\n",
       "    </tr>\n",
       "    <tr>\n",
       "      <th>3</th>\n",
       "      <td>[fscj.edu]</td>\n",
       "      <td>United States</td>\n",
       "      <td>US</td>\n",
       "      <td>[https://www.fscj.edu/]</td>\n",
       "      <td>None</td>\n",
       "      <td>Florida State College at Jacksonville</td>\n",
       "    </tr>\n",
       "    <tr>\n",
       "      <th>4</th>\n",
       "      <td>[xavier.edu]</td>\n",
       "      <td>United States</td>\n",
       "      <td>US</td>\n",
       "      <td>[https://www.xavier.edu/]</td>\n",
       "      <td>None</td>\n",
       "      <td>Xavier University</td>\n",
       "    </tr>\n",
       "  </tbody>\n",
       "</table>\n",
       "</div>"
      ],
      "text/plain": [
       "             Domain   Country_name alpha_code                 web_page_name  \\\n",
       "0    [marywood.edu]  United States         US     [http://www.marywood.edu]   \n",
       "1  [lindenwood.edu]  United States         US  [http://www.lindenwood.edu/]   \n",
       "2    [sullivan.edu]  United States         US       [https://sullivan.edu/]   \n",
       "3        [fscj.edu]  United States         US       [https://www.fscj.edu/]   \n",
       "4      [xavier.edu]  United States         US     [https://www.xavier.edu/]   \n",
       "\n",
       "  State                        university_name  \n",
       "0  None                    Marywood University  \n",
       "1  None                  Lindenwood University  \n",
       "2  None                    Sullivan University  \n",
       "3  None  Florida State College at Jacksonville  \n",
       "4  None                      Xavier University  "
      ]
     },
     "execution_count": 49,
     "metadata": {},
     "output_type": "execute_result"
    }
   ],
   "source": [
    "df.head()"
   ]
  },
  {
   "cell_type": "code",
   "execution_count": 58,
   "metadata": {},
   "outputs": [
    {
     "data": {
      "text/html": [
       "<div>\n",
       "<style scoped>\n",
       "    .dataframe tbody tr th:only-of-type {\n",
       "        vertical-align: middle;\n",
       "    }\n",
       "\n",
       "    .dataframe tbody tr th {\n",
       "        vertical-align: top;\n",
       "    }\n",
       "\n",
       "    .dataframe thead th {\n",
       "        text-align: right;\n",
       "    }\n",
       "</style>\n",
       "<table border=\"1\" class=\"dataframe\">\n",
       "  <thead>\n",
       "    <tr style=\"text-align: right;\">\n",
       "      <th></th>\n",
       "      <th>Domain</th>\n",
       "      <th>Country_name</th>\n",
       "      <th>alpha_code</th>\n",
       "      <th>web_page_name</th>\n",
       "      <th>State</th>\n",
       "      <th>university_name</th>\n",
       "    </tr>\n",
       "  </thead>\n",
       "  <tbody>\n",
       "  </tbody>\n",
       "</table>\n",
       "</div>"
      ],
      "text/plain": [
       "Empty DataFrame\n",
       "Columns: [Domain, Country_name, alpha_code, web_page_name, State, university_name]\n",
       "Index: []"
      ]
     },
     "execution_count": 58,
     "metadata": {},
     "output_type": "execute_result"
    }
   ],
   "source": [
    "df[df['State'] == 'nan']"
   ]
  },
  {
   "cell_type": "code",
   "execution_count": 94,
   "metadata": {},
   "outputs": [
    {
     "data": {
      "text/html": [
       "<div>\n",
       "<style scoped>\n",
       "    .dataframe tbody tr th:only-of-type {\n",
       "        vertical-align: middle;\n",
       "    }\n",
       "\n",
       "    .dataframe tbody tr th {\n",
       "        vertical-align: top;\n",
       "    }\n",
       "\n",
       "    .dataframe thead th {\n",
       "        text-align: right;\n",
       "    }\n",
       "</style>\n",
       "<table border=\"1\" class=\"dataframe\">\n",
       "  <thead>\n",
       "    <tr style=\"text-align: right;\">\n",
       "      <th></th>\n",
       "      <th>Domain</th>\n",
       "      <th>Country_name</th>\n",
       "      <th>alpha_code</th>\n",
       "      <th>web_page_name</th>\n",
       "      <th>State</th>\n",
       "      <th>university_name</th>\n",
       "    </tr>\n",
       "  </thead>\n",
       "  <tbody>\n",
       "    <tr>\n",
       "      <th>1170</th>\n",
       "      <td>[wallawalla.edu]</td>\n",
       "      <td>United States</td>\n",
       "      <td></td>\n",
       "      <td>[http://www.wallawalla.edu/]</td>\n",
       "      <td>Washington</td>\n",
       "      <td>Walla Walla University</td>\n",
       "    </tr>\n",
       "    <tr>\n",
       "      <th>2211</th>\n",
       "      <td>[bellevuecollege.edu]</td>\n",
       "      <td>United States</td>\n",
       "      <td>US</td>\n",
       "      <td>[https://bellevuecollege.edu]</td>\n",
       "      <td>Washington</td>\n",
       "      <td>Bellevue College</td>\n",
       "    </tr>\n",
       "  </tbody>\n",
       "</table>\n",
       "</div>"
      ],
      "text/plain": [
       "                     Domain   Country_name alpha_code  \\\n",
       "1170       [wallawalla.edu]  United States              \n",
       "2211  [bellevuecollege.edu]  United States         US   \n",
       "\n",
       "                      web_page_name       State         university_name  \n",
       "1170   [http://www.wallawalla.edu/]  Washington  Walla Walla University  \n",
       "2211  [https://bellevuecollege.edu]  Washington        Bellevue College  "
      ]
     },
     "execution_count": 94,
     "metadata": {},
     "output_type": "execute_result"
    }
   ],
   "source": [
    "#Data before replacing value with null \n",
    "df[df['State'] == 'Washington']"
   ]
  },
  {
   "cell_type": "code",
   "execution_count": 95,
   "metadata": {},
   "outputs": [],
   "source": [
    "#replace value with null\n",
    "\n",
    "df.at[1170,'alpha_code']='null'"
   ]
  },
  {
   "cell_type": "code",
   "execution_count": 96,
   "metadata": {},
   "outputs": [
    {
     "data": {
      "text/html": [
       "<div>\n",
       "<style scoped>\n",
       "    .dataframe tbody tr th:only-of-type {\n",
       "        vertical-align: middle;\n",
       "    }\n",
       "\n",
       "    .dataframe tbody tr th {\n",
       "        vertical-align: top;\n",
       "    }\n",
       "\n",
       "    .dataframe thead th {\n",
       "        text-align: right;\n",
       "    }\n",
       "</style>\n",
       "<table border=\"1\" class=\"dataframe\">\n",
       "  <thead>\n",
       "    <tr style=\"text-align: right;\">\n",
       "      <th></th>\n",
       "      <th>Domain</th>\n",
       "      <th>Country_name</th>\n",
       "      <th>alpha_code</th>\n",
       "      <th>web_page_name</th>\n",
       "      <th>State</th>\n",
       "      <th>university_name</th>\n",
       "    </tr>\n",
       "  </thead>\n",
       "  <tbody>\n",
       "    <tr>\n",
       "      <th>1170</th>\n",
       "      <td>[wallawalla.edu]</td>\n",
       "      <td>United States</td>\n",
       "      <td>null</td>\n",
       "      <td>[http://www.wallawalla.edu/]</td>\n",
       "      <td>Washington</td>\n",
       "      <td>Walla Walla University</td>\n",
       "    </tr>\n",
       "    <tr>\n",
       "      <th>2211</th>\n",
       "      <td>[bellevuecollege.edu]</td>\n",
       "      <td>United States</td>\n",
       "      <td>US</td>\n",
       "      <td>[https://bellevuecollege.edu]</td>\n",
       "      <td>Washington</td>\n",
       "      <td>Bellevue College</td>\n",
       "    </tr>\n",
       "  </tbody>\n",
       "</table>\n",
       "</div>"
      ],
      "text/plain": [
       "                     Domain   Country_name alpha_code  \\\n",
       "1170       [wallawalla.edu]  United States       null   \n",
       "2211  [bellevuecollege.edu]  United States         US   \n",
       "\n",
       "                      web_page_name       State         university_name  \n",
       "1170   [http://www.wallawalla.edu/]  Washington  Walla Walla University  \n",
       "2211  [https://bellevuecollege.edu]  Washington        Bellevue College  "
      ]
     },
     "execution_count": 96,
     "metadata": {},
     "output_type": "execute_result"
    }
   ],
   "source": [
    "#Data before replacing value with null \n",
    "\n",
    "df[df['State'] == 'Washington']"
   ]
  },
  {
   "cell_type": "code",
   "execution_count": 97,
   "metadata": {},
   "outputs": [
    {
     "data": {
      "text/html": [
       "<div>\n",
       "<style scoped>\n",
       "    .dataframe tbody tr th:only-of-type {\n",
       "        vertical-align: middle;\n",
       "    }\n",
       "\n",
       "    .dataframe tbody tr th {\n",
       "        vertical-align: top;\n",
       "    }\n",
       "\n",
       "    .dataframe thead th {\n",
       "        text-align: right;\n",
       "    }\n",
       "</style>\n",
       "<table border=\"1\" class=\"dataframe\">\n",
       "  <thead>\n",
       "    <tr style=\"text-align: right;\">\n",
       "      <th></th>\n",
       "      <th>Domain</th>\n",
       "      <th>Country_name</th>\n",
       "      <th>alpha_code</th>\n",
       "      <th>web_page_name</th>\n",
       "      <th>State</th>\n",
       "      <th>university_name</th>\n",
       "    </tr>\n",
       "  </thead>\n",
       "  <tbody>\n",
       "    <tr>\n",
       "      <th>1170</th>\n",
       "      <td>[wallawalla.edu]</td>\n",
       "      <td>United States</td>\n",
       "      <td>null</td>\n",
       "      <td>[http://www.wallawalla.edu/]</td>\n",
       "      <td>Washington</td>\n",
       "      <td>Walla Walla University</td>\n",
       "    </tr>\n",
       "  </tbody>\n",
       "</table>\n",
       "</div>"
      ],
      "text/plain": [
       "                Domain   Country_name alpha_code  \\\n",
       "1170  [wallawalla.edu]  United States       null   \n",
       "\n",
       "                     web_page_name       State         university_name  \n",
       "1170  [http://www.wallawalla.edu/]  Washington  Walla Walla University  "
      ]
     },
     "execution_count": 97,
     "metadata": {},
     "output_type": "execute_result"
    }
   ],
   "source": [
    "#identify the data with null values in alpha code column\n",
    "\n",
    "df[df.alpha_code.str.contains('null')].head()"
   ]
  },
  {
   "cell_type": "code",
   "execution_count": 98,
   "metadata": {},
   "outputs": [],
   "source": [
    "#replace the data with null values in alpha code column with value US\n",
    "\n",
    "df.alpha_code.replace({'null':'US'}, regex=True,inplace=True)"
   ]
  },
  {
   "cell_type": "code",
   "execution_count": 99,
   "metadata": {},
   "outputs": [
    {
     "data": {
      "text/html": [
       "<div>\n",
       "<style scoped>\n",
       "    .dataframe tbody tr th:only-of-type {\n",
       "        vertical-align: middle;\n",
       "    }\n",
       "\n",
       "    .dataframe tbody tr th {\n",
       "        vertical-align: top;\n",
       "    }\n",
       "\n",
       "    .dataframe thead th {\n",
       "        text-align: right;\n",
       "    }\n",
       "</style>\n",
       "<table border=\"1\" class=\"dataframe\">\n",
       "  <thead>\n",
       "    <tr style=\"text-align: right;\">\n",
       "      <th></th>\n",
       "      <th>Domain</th>\n",
       "      <th>Country_name</th>\n",
       "      <th>alpha_code</th>\n",
       "      <th>web_page_name</th>\n",
       "      <th>State</th>\n",
       "      <th>university_name</th>\n",
       "    </tr>\n",
       "  </thead>\n",
       "  <tbody>\n",
       "  </tbody>\n",
       "</table>\n",
       "</div>"
      ],
      "text/plain": [
       "Empty DataFrame\n",
       "Columns: [Domain, Country_name, alpha_code, web_page_name, State, university_name]\n",
       "Index: []"
      ]
     },
     "execution_count": 99,
     "metadata": {},
     "output_type": "execute_result"
    }
   ],
   "source": [
    "df[df.alpha_code.str.contains('null')].head()"
   ]
  },
  {
   "cell_type": "code",
   "execution_count": 100,
   "metadata": {},
   "outputs": [
    {
     "data": {
      "text/html": [
       "<div>\n",
       "<style scoped>\n",
       "    .dataframe tbody tr th:only-of-type {\n",
       "        vertical-align: middle;\n",
       "    }\n",
       "\n",
       "    .dataframe tbody tr th {\n",
       "        vertical-align: top;\n",
       "    }\n",
       "\n",
       "    .dataframe thead th {\n",
       "        text-align: right;\n",
       "    }\n",
       "</style>\n",
       "<table border=\"1\" class=\"dataframe\">\n",
       "  <thead>\n",
       "    <tr style=\"text-align: right;\">\n",
       "      <th></th>\n",
       "      <th>Domain</th>\n",
       "      <th>Country_name</th>\n",
       "      <th>alpha_code</th>\n",
       "      <th>web_page_name</th>\n",
       "      <th>State</th>\n",
       "      <th>university_name</th>\n",
       "    </tr>\n",
       "  </thead>\n",
       "  <tbody>\n",
       "    <tr>\n",
       "      <th>1170</th>\n",
       "      <td>[wallawalla.edu]</td>\n",
       "      <td>United States</td>\n",
       "      <td>US</td>\n",
       "      <td>[http://www.wallawalla.edu/]</td>\n",
       "      <td>Washington</td>\n",
       "      <td>Walla Walla University</td>\n",
       "    </tr>\n",
       "    <tr>\n",
       "      <th>2211</th>\n",
       "      <td>[bellevuecollege.edu]</td>\n",
       "      <td>United States</td>\n",
       "      <td>US</td>\n",
       "      <td>[https://bellevuecollege.edu]</td>\n",
       "      <td>Washington</td>\n",
       "      <td>Bellevue College</td>\n",
       "    </tr>\n",
       "  </tbody>\n",
       "</table>\n",
       "</div>"
      ],
      "text/plain": [
       "                     Domain   Country_name alpha_code  \\\n",
       "1170       [wallawalla.edu]  United States         US   \n",
       "2211  [bellevuecollege.edu]  United States         US   \n",
       "\n",
       "                      web_page_name       State         university_name  \n",
       "1170   [http://www.wallawalla.edu/]  Washington  Walla Walla University  \n",
       "2211  [https://bellevuecollege.edu]  Washington        Bellevue College  "
      ]
     },
     "execution_count": 100,
     "metadata": {},
     "output_type": "execute_result"
    }
   ],
   "source": [
    "df[df['State'] == 'Washington']"
   ]
  },
  {
   "cell_type": "code",
   "execution_count": null,
   "metadata": {},
   "outputs": [],
   "source": []
  }
 ],
 "metadata": {
  "kernelspec": {
   "display_name": "Python 3 (ipykernel)",
   "language": "python",
   "name": "python3"
  },
  "language_info": {
   "codemirror_mode": {
    "name": "ipython",
    "version": 3
   },
   "file_extension": ".py",
   "mimetype": "text/x-python",
   "name": "python",
   "nbconvert_exporter": "python",
   "pygments_lexer": "ipython3",
   "version": "3.9.12"
  }
 },
 "nbformat": 4,
 "nbformat_minor": 2
}
